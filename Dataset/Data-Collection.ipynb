{
 "cells": [
  {
   "cell_type": "code",
   "execution_count": 1,
   "id": "34029741",
   "metadata": {},
   "outputs": [],
   "source": [
    "import pandas as pd\n",
    "import numpy as np\n",
    "import yfinance as yf\n",
    "import datetime\n",
    "import csv"
   ]
  },
  {
   "cell_type": "code",
   "execution_count": 2,
   "id": "a361217c",
   "metadata": {},
   "outputs": [],
   "source": [
    "S_AND_P_URL='https://en.wikipedia.org/wiki/List_of_S%26P_500_companies'"
   ]
  },
  {
   "cell_type": "code",
   "execution_count": 3,
   "id": "49c0d8fd",
   "metadata": {},
   "outputs": [],
   "source": [
    "symbols=pd.read_html(S_AND_P_URL)[0]['Symbol'].tolist()"
   ]
  },
  {
   "cell_type": "code",
   "execution_count": 4,
   "id": "0c1f3648",
   "metadata": {},
   "outputs": [],
   "source": [
    "symbols=list(map(lambda x: x.replace('BRK.B', 'BRK-B'), symbols))\n",
    "symbols=list(map(lambda x: x.replace('BF.B', 'BF-B'), symbols))"
   ]
  },
  {
   "cell_type": "code",
   "execution_count": 5,
   "id": "5f28851e",
   "metadata": {},
   "outputs": [],
   "source": [
    "def get_ticker_data(tickers: list): \n",
    "    data = yf.download(\n",
    "        tickers = tickers,\n",
    "        start=\"2013-02-08\",end=\"2018-02-08\",\n",
    "        interval = '1d',\n",
    "        group_by = 'ticker',\n",
    "        threads = True,\n",
    "    )\n",
    "    \n",
    "    OutputFileName='./output/SP500.csv'\n",
    "        \n",
    "    all_tickers_data=[]\n",
    "    \n",
    "    for ticker in tickers:\n",
    "        try:\n",
    "            temp_df = data.loc[:, ticker.upper()].dropna()\n",
    "            temp_df['Name']= ticker \n",
    "            all_tickers_data.append(temp_df)\n",
    "        except Exception as error:\n",
    "            # handle the exception\n",
    "            print(\"An exception occurred:\", error)\n",
    "\n",
    "    df = pd.concat(all_tickers_data)\n",
    "    df.rename(columns={\"Open\": \"open\", \"High\": \"high\", \"Low\": \"low\", \"Close\": \"close\", \"Volume\": \"volume\", \"Adj Close\": \"adjclose\" },inplace=True)\n",
    "    df.to_csv(OutputFileName,mode='a',header=True, index = True)\n",
    "\n",
    "    return"
   ]
  },
  {
   "cell_type": "code",
   "execution_count": 6,
   "id": "39173d96",
   "metadata": {},
   "outputs": [
    {
     "name": "stdout",
     "output_type": "stream",
     "text": [
      "[*********************100%%**********************]  503 of 503 completed"
     ]
    },
    {
     "name": "stderr",
     "output_type": "stream",
     "text": [
      "\n",
      "13 Failed downloads:\n",
      "['FOXA', 'OTIS', 'VLTO', 'ABNB', 'CDAY', 'GEHC', 'CEG', 'CTVA', 'FOX', 'MRNA', 'CARR', 'KVUE', 'DOW']: Exception(\"%ticker%: Data doesn't exist for startDate = 1360299600, endDate = 1518066000\")\n"
     ]
    },
    {
     "name": "stdout",
     "output_type": "stream",
     "text": [
      "\n"
     ]
    }
   ],
   "source": [
    "get_ticker_data(symbols)"
   ]
  },
  {
   "cell_type": "code",
   "execution_count": null,
   "id": "d33b8ee6",
   "metadata": {},
   "outputs": [],
   "source": []
  }
 ],
 "metadata": {
  "kernelspec": {
   "display_name": "Python 3 (ipykernel)",
   "language": "python",
   "name": "python3"
  },
  "language_info": {
   "codemirror_mode": {
    "name": "ipython",
    "version": 3
   },
   "file_extension": ".py",
   "mimetype": "text/x-python",
   "name": "python",
   "nbconvert_exporter": "python",
   "pygments_lexer": "ipython3",
   "version": "3.10.12"
  }
 },
 "nbformat": 4,
 "nbformat_minor": 5
}
